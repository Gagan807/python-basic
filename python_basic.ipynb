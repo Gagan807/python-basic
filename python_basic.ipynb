{
  "nbformat": 4,
  "nbformat_minor": 0,
  "metadata": {
    "colab": {
      "provenance": []
    },
    "kernelspec": {
      "name": "python3",
      "display_name": "Python 3"
    },
    "language_info": {
      "name": "python"
    }
  },
  "cells": [
    {
      "cell_type": "markdown",
      "source": [
        "1.What is Python, and why is it popular?\n",
        "\n",
        "Ans-: Python is a high-level, versatile programming language known for its readability and ease of use. It's popular due to its simple syntax, extensive libraries, and wide range of applications, including web development, data science, machine learning, and automation.\n",
        "\n",
        "\n",
        "\n"
      ],
      "metadata": {
        "id": "ppqs43OzUa3m"
      }
    },
    {
      "cell_type": "markdown",
      "source": [
        "2.What is an interpreter in Python?\n",
        "\n",
        "Ans:An interpreter is a program that executes Python code directly, line by line, without needing to compile the entire program into machine code first."
      ],
      "metadata": {
        "id": "0pVYegy8VVa4"
      }
    },
    {
      "cell_type": "markdown",
      "source": [
        "3.What are pre-defined keywords in Python ?\n",
        "\n",
        "Ans:-Pre-defined keywords in Python are reserved words that have special meanings and functionalities within the language. They are integral to Python's syntax and structure, guiding the interpreter on how to execute code.\n",
        "\n",
        "\n"
      ],
      "metadata": {
        "id": "NlYJrFPkV4-o"
      }
    },
    {
      "cell_type": "markdown",
      "source": [
        "4.Can keywords be used as variable names?\n",
        "\n",
        "Ans:-No, keywods are not used as a variables in python.\n"
      ],
      "metadata": {
        "id": "NgmDEwl1WWuh"
      }
    },
    {
      "cell_type": "markdown",
      "source": [
        "5.What is mutability in Python ?\n",
        "\n",
        "Ans:-Mutability in Python refers to the ability of an object to be modified after it has been created."
      ],
      "metadata": {
        "id": "5wj22xfHWwIK"
      }
    },
    {
      "cell_type": "markdown",
      "source": [
        "6.Why are lists mutable, but tuples are immutable?\n",
        "\n",
        "Ans:-lits is mutable because list can be modifed ater it has been created but on the other hand tuples are immutable becasue it cann't be modifed after it has been created."
      ],
      "metadata": {
        "id": "HZ8fjH5bW9gS"
      }
    },
    {
      "cell_type": "markdown",
      "source": [
        "7.What is the difference between “==” and “is” operators in Python ?\n",
        "\n",
        "Ans:- The == operator helps us compare the equality of objects. The is operator helps us check whether different variables point towards a similar object in the memory."
      ],
      "metadata": {
        "id": "c4BQYjSXXm99"
      }
    },
    {
      "cell_type": "markdown",
      "source": [
        "8.What are logical operators in Python ?\n",
        "\n",
        "Ans:-Logical operators in Python are used to combine conditional statements and evaluate expressions based on Boolean logic."
      ],
      "metadata": {
        "id": "Tqd-i8azxeMV"
      }
    },
    {
      "cell_type": "markdown",
      "source": [
        "9.What is type casting in Python?\n",
        "\n",
        "Ans:-Type casting is the process of converting a value from one data type to another.\n"
      ],
      "metadata": {
        "id": "x76Rr20naJUW"
      }
    },
    {
      "cell_type": "markdown",
      "source": [
        "10.What is the difference between implicit and explicit type casting?\n",
        "\n",
        "Ans:- Implicit casting is performed by the compiler without requiring the programmer's explicit intervention. Explicit casting requires the programmer to explicitly specify the desired data type conversion using a cast operator.\n"
      ],
      "metadata": {
        "id": "66lKjJEca0IT"
      }
    },
    {
      "cell_type": "markdown",
      "source": [
        "11.What is the purpose of conditional statements in Python?\n",
        "\n",
        "Ans:- The pupose of conditional statement to control the flow of execution in a program based on whether certain conditions are met.\n"
      ],
      "metadata": {
        "id": "I7uZVo1eb_7V"
      }
    },
    {
      "cell_type": "markdown",
      "source": [
        "12.How does the elif statement work ?\n",
        "\n",
        "Ans:-It can be used in conditional statements to check for multiple conditions.\n"
      ],
      "metadata": {
        "id": "qfIo-LEccV3S"
      }
    },
    {
      "cell_type": "markdown",
      "source": [
        "13.What is the difference between for and while loops?\n",
        "\n",
        "Ans:- for loops are ideal when you know how many times you need to iterate, while while loops are better when the number of iterations is uncertain and depends on a condition."
      ],
      "metadata": {
        "id": "yWWwWY_acS6g"
      }
    },
    {
      "cell_type": "markdown",
      "source": [
        "14.Describe a scenario where a while loop is more suitable than a for loop.\n",
        "\n",
        "Ans:-for loops are best used when you know the number of iterations ahead of time, whereas a while loop is best used when you don't know the number of iterations in advance.\n"
      ],
      "metadata": {
        "id": "7sQ0ZPGadP5U"
      }
    },
    {
      "cell_type": "markdown",
      "source": [
        "PRACTICAL QUESTIONS\n"
      ],
      "metadata": {
        "id": "zu5vGMyceEFt"
      }
    },
    {
      "cell_type": "code",
      "source": [
        "#1.Write a python program to print \"Hello,world!\"\n",
        "print(\"Hello,world!\")"
      ],
      "metadata": {
        "colab": {
          "base_uri": "https://localhost:8080/"
        },
        "id": "PVp5v4Xqlupe",
        "outputId": "fd494306-de61-403c-f8cd-242af63bbc13"
      },
      "execution_count": 1,
      "outputs": [
        {
          "output_type": "stream",
          "name": "stdout",
          "text": [
            "Hello,world!\n"
          ]
        }
      ]
    },
    {
      "cell_type": "code",
      "source": [
        "#2.Write a Python program that displays your name and age.\n",
        "name = input(\"Enter your name:\")\n",
        "age = int(input(\"Enter your age:\"))\n",
        "print(f\"My name is {name} and my age is {age}.\")"
      ],
      "metadata": {
        "colab": {
          "base_uri": "https://localhost:8080/"
        },
        "id": "xEPjICSsmJ9C",
        "outputId": "ad44ad42-1bd3-487d-ed2f-6f83028f132b"
      },
      "execution_count": 3,
      "outputs": [
        {
          "output_type": "stream",
          "name": "stdout",
          "text": [
            "Enter your name:gagan\n",
            "Enter your age:23\n",
            "My name is gagan and my age is 23.\n"
          ]
        }
      ]
    },
    {
      "cell_type": "code",
      "source": [
        "#3.Write code to print all the pre-defined keywords in Python using the keyword library.\n",
        "import keyword\n",
        "print(keyword.kwlist)\n",
        "\n"
      ],
      "metadata": {
        "id": "f5dvfcRqmbYB"
      },
      "execution_count": null,
      "outputs": []
    },
    {
      "cell_type": "code",
      "source": [
        "#4.Write a program that checks if a given word is a Python keyword.\n",
        "import keyword\n",
        "word=input(\"Enter a word:\")\n",
        "if keyword.iskeyword(word):\n",
        "  print(f\"{word} is a python keyword.\")\n",
        "else:\n",
        "  print(f\"{word} is not a python keyword.\")\n"
      ],
      "metadata": {
        "id": "OQQxqnNwmpzw"
      },
      "execution_count": null,
      "outputs": []
    },
    {
      "cell_type": "code",
      "source": [
        "#5.Create a list and tuple in Python, and demonstrate how attempting to change an element works differently for each.\n",
        "\n",
        "list=[1,2,5,8,6,4,7,9]\n",
        "tup=(1,2,5,8,6,4,7,9)\n",
        "list[0]=10\n",
        "print(list)\n",
        "tup[0]=10\n",
        "print(tup)\n"
      ],
      "metadata": {
        "colab": {
          "base_uri": "https://localhost:8080/",
          "height": 211
        },
        "id": "ZG1cJwBDm2TL",
        "outputId": "449eaed2-deb2-4cd2-af2f-068fa24c0d68"
      },
      "execution_count": 15,
      "outputs": [
        {
          "output_type": "stream",
          "name": "stdout",
          "text": [
            "[10, 2, 5, 8, 6, 4, 7, 9]\n"
          ]
        },
        {
          "output_type": "error",
          "ename": "TypeError",
          "evalue": "'tuple' object does not support item assignment",
          "traceback": [
            "\u001b[0;31m---------------------------------------------------------------------------\u001b[0m",
            "\u001b[0;31mTypeError\u001b[0m                                 Traceback (most recent call last)",
            "\u001b[0;32m/tmp/ipython-input-15-1926493723.py\u001b[0m in \u001b[0;36m<cell line: 0>\u001b[0;34m()\u001b[0m\n\u001b[1;32m      5\u001b[0m \u001b[0mlist\u001b[0m\u001b[0;34m[\u001b[0m\u001b[0;36m0\u001b[0m\u001b[0;34m]\u001b[0m\u001b[0;34m=\u001b[0m\u001b[0;36m10\u001b[0m\u001b[0;34m\u001b[0m\u001b[0;34m\u001b[0m\u001b[0m\n\u001b[1;32m      6\u001b[0m \u001b[0mprint\u001b[0m\u001b[0;34m(\u001b[0m\u001b[0mlist\u001b[0m\u001b[0;34m)\u001b[0m\u001b[0;34m\u001b[0m\u001b[0;34m\u001b[0m\u001b[0m\n\u001b[0;32m----> 7\u001b[0;31m \u001b[0mtup\u001b[0m\u001b[0;34m[\u001b[0m\u001b[0;36m0\u001b[0m\u001b[0;34m]\u001b[0m\u001b[0;34m=\u001b[0m\u001b[0;36m10\u001b[0m\u001b[0;34m\u001b[0m\u001b[0;34m\u001b[0m\u001b[0m\n\u001b[0m\u001b[1;32m      8\u001b[0m \u001b[0mprint\u001b[0m\u001b[0;34m(\u001b[0m\u001b[0mtup\u001b[0m\u001b[0;34m)\u001b[0m\u001b[0;34m\u001b[0m\u001b[0;34m\u001b[0m\u001b[0m\n",
            "\u001b[0;31mTypeError\u001b[0m: 'tuple' object does not support item assignment"
          ]
        }
      ]
    },
    {
      "cell_type": "code",
      "source": [
        "#7. Write a program that performs basic arithmetic operations on two user-input numbers.\n",
        "a=int(input(\"Enter the first number:\"))\n",
        "b=int(input(\"Enter the second number:\"))\n",
        "print(f\"The sum of {a} and {b} is {a+b}.\")"
      ],
      "metadata": {
        "colab": {
          "base_uri": "https://localhost:8080/"
        },
        "id": "CmT3ah-WnpAp",
        "outputId": "48e18002-8c06-485e-d8a0-97095a7ba989"
      },
      "execution_count": 14,
      "outputs": [
        {
          "output_type": "stream",
          "name": "stdout",
          "text": [
            "Enter the first number:4\n",
            "Enter the second number:5\n",
            "The sum of 4 and 5 is 9.\n"
          ]
        }
      ]
    },
    {
      "cell_type": "code",
      "source": [
        "#8.Write a program to demonstrate the use of logical operators.\n",
        "a=int(input(\"Enter the first number:\"))\n",
        "b=int(input(\"Enter the second number:\"))\n",
        "if a>0 and b>0:\n",
        "  print(\"Both numbers are positive.\")\n"
      ],
      "metadata": {
        "colab": {
          "base_uri": "https://localhost:8080/"
        },
        "id": "Ki85lL5fn0oI",
        "outputId": "23c78d8e-5ecd-4191-e987-3ce6e821c9c7"
      },
      "execution_count": 13,
      "outputs": [
        {
          "output_type": "stream",
          "name": "stdout",
          "text": [
            "Enter the first number:6\n",
            "Enter the second number:7\n",
            "Both numbers are positive.\n"
          ]
        }
      ]
    },
    {
      "cell_type": "code",
      "source": [
        "#9.Write a Python program to convert user input from string to integer, float, and boolean types.\n",
        "\n",
        "a=input(\"Enter a number:\")\n",
        "b=int(a)\n",
        "c=float(a)\n",
        "d=bool(a)\n"
      ],
      "metadata": {
        "colab": {
          "base_uri": "https://localhost:8080/"
        },
        "id": "RmYMpROpn8oW",
        "outputId": "717d8fc3-2e1f-422f-b8b1-54341dadf8d5"
      },
      "execution_count": 12,
      "outputs": [
        {
          "name": "stdout",
          "output_type": "stream",
          "text": [
            "Enter a number:6\n"
          ]
        }
      ]
    },
    {
      "cell_type": "code",
      "source": [
        "#10.Write code to demonstrate type casting with list elements.\n",
        "\n",
        "a = [1, 2, 3, 4, 5] # list\n",
        "\n",
        "tup = tuple(a)\n",
        "print('tuple:', tup)"
      ],
      "metadata": {
        "colab": {
          "base_uri": "https://localhost:8080/"
        },
        "id": "7KYoerY7ooaH",
        "outputId": "cf741eb7-fc96-45f8-bfc9-bf032104a5cb"
      },
      "execution_count": 4,
      "outputs": [
        {
          "output_type": "stream",
          "name": "stdout",
          "text": [
            "tuple: (1, 2, 3, 4, 5)\n"
          ]
        }
      ]
    },
    {
      "cell_type": "code",
      "source": [
        "#11.Write a program that checks if a number is positive, negative, or zero.\n",
        "a = int(input(\"Enter a number:\"))\n",
        "if a>0:\n",
        "  print(f\"{a} is a positive number.\")\n",
        "elif a<0:\n",
        "  print(f\"{a} is a negative number.\")\n",
        "else:\n",
        "  print(f\"{a} is zero\")"
      ],
      "metadata": {
        "colab": {
          "base_uri": "https://localhost:8080/"
        },
        "id": "1oYOKrrRq9w7",
        "outputId": "076f022f-49a4-4b77-e310-64bf971eba19"
      },
      "execution_count": 10,
      "outputs": [
        {
          "output_type": "stream",
          "name": "stdout",
          "text": [
            "Enter a number:6\n",
            "6 is a positive number.\n"
          ]
        }
      ]
    },
    {
      "cell_type": "code",
      "source": [
        "#12.Write a for loop to print numbers from 1 to 10.\n",
        "\n",
        "for i in range(1,11):\n",
        "  print(i)"
      ],
      "metadata": {
        "colab": {
          "base_uri": "https://localhost:8080/"
        },
        "id": "035Jc5Ryrksr",
        "outputId": "746d3f8e-cedf-4882-8f41-da3c72222c82"
      },
      "execution_count": 9,
      "outputs": [
        {
          "output_type": "stream",
          "name": "stdout",
          "text": [
            "1\n",
            "2\n",
            "3\n",
            "4\n",
            "5\n",
            "6\n",
            "7\n",
            "8\n",
            "9\n",
            "10\n"
          ]
        }
      ]
    },
    {
      "cell_type": "code",
      "source": [
        "#13. Write a Python program to find the sum of all even numbers between 1 and 50.\n",
        "\n",
        "sum=0\n",
        "for i in range(1,51):\n",
        "  sum=sum+i\n",
        "print(sum)"
      ],
      "metadata": {
        "colab": {
          "base_uri": "https://localhost:8080/"
        },
        "id": "ZzsNNyxUrx4t",
        "outputId": "c39f23f8-96ef-4617-eff4-4cb751cd2f20"
      },
      "execution_count": 8,
      "outputs": [
        {
          "output_type": "stream",
          "name": "stdout",
          "text": [
            "1275\n"
          ]
        }
      ]
    },
    {
      "cell_type": "code",
      "source": [
        "#14. Write a program to reverse a string using a while loop.\n",
        "\n",
        "str1 = \"Gagan\"\n",
        "rev = \"\"\n",
        "while len(str1) > 0:\n",
        "    rev = rev + str1[-1]\n",
        "    str1 = str1[:-1]\n",
        "print(rev)"
      ],
      "metadata": {
        "colab": {
          "base_uri": "https://localhost:8080/"
        },
        "id": "HLMwZkUesO_4",
        "outputId": "458243c0-5a4a-45dc-bae6-af4138661da6"
      },
      "execution_count": 7,
      "outputs": [
        {
          "output_type": "stream",
          "name": "stdout",
          "text": [
            "nagaG\n"
          ]
        }
      ]
    },
    {
      "cell_type": "code",
      "metadata": {
        "colab": {
          "base_uri": "https://localhost:8080/"
        },
        "id": "6f547277",
        "outputId": "8ed1e27f-b0da-42d0-9a4b-6a498ab43dcb"
      },
      "source": [
        "#15. Write a Python program to calculate the factorial of a number provided by the user using a while loop.\n",
        "\n",
        "n = int(input(\"Enter the number:\"))\n",
        "fact = 1\n",
        "i = 1\n",
        "while i <= n:\n",
        "  fact = fact * i\n",
        "  i = i + 1\n",
        "print(f\"The factorial of {n} is {fact}.\")"
      ],
      "execution_count": 5,
      "outputs": [
        {
          "output_type": "stream",
          "name": "stdout",
          "text": [
            "Enter the number:5\n",
            "The factorial of 5 is 120.\n"
          ]
        }
      ]
    }
  ]
}